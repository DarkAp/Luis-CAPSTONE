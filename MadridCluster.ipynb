{
 "cells": [
  {
   "cell_type": "markdown",
   "metadata": {},
   "source": [
    "# **Looking for a place to set up a guided visit start point in Madrid**"
   ]
  },
  {
   "cell_type": "markdown",
   "metadata": {},
   "source": [
    "## Description of the problem:"
   ]
  },
  {
   "cell_type": "markdown",
   "metadata": {},
   "source": [
    "The objective of this studio is to select a set of coordinates to serve as a starting point for guided visits aimed at turists wanting to explore the monuments of Madrid (Spain)."
   ]
  },
  {
   "cell_type": "markdown",
   "metadata": {},
   "source": [
    "This tours will be special though. Upon arriving to the starting point, each group of tourists will pick one of three sets of monuments to visit (the best way to group the monuments will also be calculated in this notebook). Thus, before calculating the starting point for the tour (which will be the final goal) we have to cluster the monuments in three groups.\n",
    "\n",
    "Note that the paticular path for each of the tours is not an objective of this study, and it will not be calculated."
   ]
  },
  {
   "cell_type": "markdown",
   "metadata": {},
   "source": [
    "## Description of the data:"
   ]
  },
  {
   "cell_type": "markdown",
   "metadata": {},
   "source": [
    "For this study, we will need to main sources of data:"
   ]
  },
  {
   "cell_type": "markdown",
   "metadata": {},
   "source": [
    "On the one hand, we will need a mapa of Madrid to help us visualize the results of the study and to verify (with the naked eye) that they are reasonable."
   ]
  },
  {
   "cell_type": "markdown",
   "metadata": {},
   "source": [
    "On the other hand, we will need the coordinates of Madrid's most centrical monuments. For practical reasons, we will limit the search to the thirty monuments closest to the center of the city."
   ]
  },
  {
   "cell_type": "markdown",
   "metadata": {},
   "source": [
    "The aim is to cluster the monuments into three groups. After that, we should calculate the centroid of each group to serve as reference for the calculation of the starting point. And finally, we should be able to calculate a centr"
   ]
  }
 ],
 "metadata": {
  "kernelspec": {
   "display_name": "Python 3",
   "language": "python",
   "name": "python3"
  },
  "language_info": {
   "codemirror_mode": {
    "name": "ipython",
    "version": 3
   },
   "file_extension": ".py",
   "mimetype": "text/x-python",
   "name": "python",
   "nbconvert_exporter": "python",
   "pygments_lexer": "ipython3",
   "version": "3.6.5"
  }
 },
 "nbformat": 4,
 "nbformat_minor": 2
}
